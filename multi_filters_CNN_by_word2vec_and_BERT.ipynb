{
 "cells": [
  {
   "cell_type": "code",
   "execution_count": 31,
   "metadata": {},
   "outputs": [],
   "source": [
    "import os\n",
    "from gensim.models import KeyedVectors\n",
    "word2vec = KeyedVectors.load_word2vec_format('GoogleNews-vectors-negative300.bin.gz', binary=True)"
   ]
  },
  {
   "cell_type": "code",
   "execution_count": 57,
   "metadata": {},
   "outputs": [],
   "source": [
    "import os\n",
    "\n",
    "pretrained_path = 'bert/multi_cased_L-12_H-768_A-12'\n",
    "config_path = os.path.join(pretrained_path, 'bert_config.json')\n",
    "checkpoint_path = os.path.join(pretrained_path, 'bert_model.ckpt')\n",
    "vocab_path = os.path.join(pretrained_path, 'vocab.txt')\n",
    "os.environ['TF_KERAS'] = '1'"
   ]
  },
  {
   "cell_type": "code",
   "execution_count": null,
   "metadata": {},
   "outputs": [],
   "source": [
    "import codecs\n",
    "\n",
    "token_dict = {}\n",
    "with codecs.open(vocab_path, 'r', 'utf-8') as reader:\n",
    "    for line in reader:\n",
    "        token = line.strip()\n",
    "        token_dict[token] = len(token_dict)"
   ]
  },
  {
   "cell_type": "code",
   "execution_count": 54,
   "metadata": {},
   "outputs": [],
   "source": [
    "def file_open(input):\n",
    "    sentences1 = []\n",
    "    sentences2 = []\n",
    "    with open(input, 'r', encoding='utf-8') as fileobj:\n",
    "        while True:\n",
    "            line = fileobj.readline()\n",
    "            if line :\n",
    "                s = line.split('\\t')\n",
    "                s[0] = s[0].rstrip().replace('.', ' ').replace('\"', ' ').replace(\"'\", \" \").replace(\"-\", \" \").replace(\":\", \" \").replace(\"%\", \" \").replace(\"*\", \" \").replace(\"!\", \" \").replace(\"?\", \" \").replace(\"@\", \" \").replace('/', ' ').replace(\",\", ' ').replace('(', ' ').replace(')', ' ').replace('#', ' ')\n",
    "                sentences1.append(s[0])\n",
    "                s[1] = s[1].rstrip().replace('.', ' ').replace('\"', ' ').replace(\"'\", \" \").replace(\"-\", \" \").replace(\":\", \" \").replace(\"%\", \" \").replace(\"*\", \" \").replace(\"!\", \" \").replace(\"?\", \" \").replace(\"@\", \" \").replace('/', ' ').replace(\",\", ' ').replace('(', ' ').replace(')', ' ').replace('#', ' ')\n",
    "                sentences2.append(s[1])\n",
    "            else:\n",
    "                break\n",
    "    return sentences1, sentences2"
   ]
  },
  {
   "cell_type": "code",
   "execution_count": 55,
   "metadata": {},
   "outputs": [],
   "source": [
    "def label_open(input):\n",
    "    with open(input, \"r\") as fileobj:\n",
    "        labels = [float(s.strip())/5. for s in fileobj.readlines()]\n",
    "    labels = np.asarray(labels)\n",
    "    return labels"
   ]
  },
  {
   "cell_type": "code",
   "execution_count": 56,
   "metadata": {},
   "outputs": [],
   "source": [
    "import numpy as np\n",
    "from keras_bert import Tokenizer\n",
    "\n",
    "sentences1, sentences2 = file_open(\"input/STS.input.OnWN.txt\")\n",
    "labels = label_open(\"gs/STS.gs.OnWN.txt\")\n",
    "\n",
    "sentences1n, sentences2n = file_open(\"input/STS.input.MSRvid.txt\")\n",
    "sentences1 = np.concatenate([sentences1, sentences1n], axis=0)\n",
    "sentences2 = np.concatenate([sentences2, sentences2n], axis=0)\n",
    "labelsn = label_open(\"gs/STS.gs.MSRvid.txt\")\n",
    "labels = np.concatenate([labels, labelsn], axis=0)\n",
    "\n",
    "sentences1n, sentences2n = file_open(\"input/STS.input.SMTeuroparl.txt\")\n",
    "sentences1 = np.concatenate([sentences1, sentences1n], axis=0)\n",
    "sentences2 = np.concatenate([sentences2, sentences2n], axis=0)\n",
    "labelsn = label_open(\"gs/STS.gs.SMTeuroparl.txt\")\n",
    "labels = np.concatenate([labels, labelsn], axis=0)\n",
    "\n",
    "\n",
    "sentences1n, sentences2n = file_open(\"input/STS.input.tweet-news.txt\")\n",
    "sentences1 = np.concatenate([sentences1, sentences1n], axis=0)\n",
    "sentences2 = np.concatenate([sentences2, sentences2n], axis=0)\n",
    "labelsn = label_open(\"gs/STS.gs.tweet-news.txt\")\n",
    "labels = np.concatenate([labels, labelsn], axis=0)\n",
    "\n",
    "test1, test2 = file_open(\"input/STS.input.images.txt\")\n",
    "\n",
    "indices = []\n",
    "segments = []\n",
    "\n",
    "tokenizer = Tokenizer(token_dict)\n",
    "\n",
    "for text in sentences1:\n",
    "    indice, segment = tokenizer.encode(first=text, max_len=75)\n",
    "    indices.append(indice)\n",
    "    segments.append(segment)\n",
    "for text in sentences2:\n",
    "    indice, segment = tokenizer.encode(first=text, max_len=75)\n",
    "    indices.append(indice)\n",
    "    segments.append(segment)\n",
    "\n",
    "\n",
    "for text in test1:\n",
    "    indice, segment = tokenizer.encode(first=text, max_len=75)\n",
    "    indices.append(indice)\n",
    "    segments.append(segment)\n",
    "for text in test2:\n",
    "    indice, segment = tokenizer.encode(first=text, max_len=75)\n",
    "    indices.append(indice)\n",
    "    segments.append(segment)\n",
    "    \n",
    "print('Shape of data tensor:', sentences1.shape)\n",
    "print('Shape of labels tensor:', labels.shape)\n"
   ]
  },
  {
   "cell_type": "code",
   "execution_count": null,
   "metadata": {},
   "outputs": [],
   "source": [
    "from keras_bert import load_trained_model_from_checkpoint\n",
    "\n",
    "bert = load_trained_model_from_checkpoint(config_path, checkpoint_path, seq_len=75, trainable=True)\n",
    "bert.summary()"
   ]
  },
  {
   "cell_type": "code",
   "execution_count": null,
   "metadata": {},
   "outputs": [],
   "source": [
    "from nltk.stem import *\n",
    "from keras.preprocessing.text import *\n",
    "from keras.preprocessing.sequence import pad_sequences\n",
    "import nltk"
   ]
  },
  {
   "cell_type": "code",
   "execution_count": null,
   "metadata": {},
   "outputs": [],
   "source": [
    "bert_predict = bert.predict([np.array(indices), np.array(segments)])"
   ]
  },
  {
   "cell_type": "code",
   "execution_count": 58,
   "metadata": {},
   "outputs": [],
   "source": [
    "train_data = bert_predicts[: 5968]\n",
    "test_data = bert_predicts[5968: ]\n",
    "train_left = train_data[: 2984]\n",
    "train_right = train_data[2984: ]\n",
    "test_left = test_data[: 750]\n",
    "test_right = test_data[750: ]"
   ]
  },
  {
   "cell_type": "code",
   "execution_count": 59,
   "metadata": {},
   "outputs": [
    {
     "data": {
      "text/plain": [
       "((2984, 75, 768), (2984, 75, 768), (750, 75, 768), (750, 75, 768))"
      ]
     },
     "execution_count": 59,
     "metadata": {},
     "output_type": "execute_result"
    }
   ],
   "source": [
    "train_left.shape, train_right.shape,test_left.shape, test_right.shape"
   ]
  },
  {
   "cell_type": "code",
   "execution_count": 60,
   "metadata": {},
   "outputs": [],
   "source": [
    "train_left_cls = []\n",
    "train_right_cls = []\n",
    "test_left_cls = []\n",
    "test_right_cls = []\n",
    "train_left_words = []\n",
    "train_right_words = []\n",
    "test_left_words = []\n",
    "test_right_words = []\n",
    "\n",
    "for line_left, line_right in zip(train_left, train_right):\n",
    "    train_left_cls.append(line_left[0])\n",
    "    train_right_cls.append(line_right[0])\n",
    "    train_left_words.append(line_left[1: ])\n",
    "    train_right_words.append(line_right[1:  ])\n",
    "for line_left, line_right in zip(test_left, test_right):\n",
    "    test_left_cls.append(line_left[0])\n",
    "    test_right_cls.append(line_right[0])\n",
    "    test_left_words.append(line_left[1: ])\n",
    "    test_right_words.append(line_right[1: ])\n",
    "    \n",
    "train_left_cls = np.array(train_left_cls)\n",
    "train_right_cls = np.array(train_right_cls)\n",
    "train_left_words = np.array(train_left_words)\n",
    "train_right_words = np.array(train_right_words)\n",
    "test_left_cls = np.array(test_left_cls)\n",
    "test_right_cls = np.array(test_right_cls)\n",
    "test_left_words = np.array(test_left_words)\n",
    "test_right_words = np.array(test_right_words)\n",
    "data_left = lemmatize(sentences1)\n",
    "data_right = lemmatize(sentences2)"
   ]
  },
  {
   "cell_type": "code",
   "execution_count": 61,
   "metadata": {},
   "outputs": [
    {
     "data": {
      "text/plain": [
       "((2984, 768),\n",
       " (2984, 768),\n",
       " (750, 768),\n",
       " (750, 768),\n",
       " (2984, 74, 768),\n",
       " (2984, 74, 768),\n",
       " (750, 74, 768),\n",
       " (750, 74, 768))"
      ]
     },
     "execution_count": 61,
     "metadata": {},
     "output_type": "execute_result"
    }
   ],
   "source": [
    "train_left_cls.shape, train_right_cls.shape, test_left_cls.shape, test_right_cls.shape,  train_left_words.shape, train_right_words.shape, test_left_words.shape, test_right_words.shape"
   ]
  },
  {
   "cell_type": "code",
   "execution_count": 62,
   "metadata": {},
   "outputs": [
    {
     "data": {
      "text/plain": [
       "(2984,)"
      ]
     },
     "execution_count": 62,
     "metadata": {},
     "output_type": "execute_result"
    }
   ],
   "source": [
    "labels.shape"
   ]
  },
  {
   "cell_type": "code",
   "execution_count": 63,
   "metadata": {},
   "outputs": [],
   "source": [
    "from nltk.stem import *\n",
    "from keras.preprocessing.text import *\n",
    "from keras.preprocessing.sequence import pad_sequences\n",
    "import nltk\n",
    "\n",
    "\n",
    "def lemmatize(texts):\n",
    "    s = []\n",
    "    a = np.zeros((len(texts), 75, 300))\n",
    "    for text in texts:\n",
    "        s.append(text_to_word_sequence(text))\n",
    "    for i, text in enumerate(s):\n",
    "        for j, word in enumerate(text):\n",
    "            if word in word2vec:\n",
    "                a[i][j][:] = word2vec[word]\n",
    "            else:\n",
    "                continue\n",
    "    return a"
   ]
  },
  {
   "cell_type": "code",
   "execution_count": 78,
   "metadata": {},
   "outputs": [],
   "source": [
    "max_len = 75\n",
    "\n",
    "\n",
    "indices = np.arange(train_left_words.shape[0])\n",
    "np.random.shuffle(indices)\n",
    "\n",
    "data_left = data_left[indices]\n",
    "data_right = data_right[indices]\n",
    "\n",
    "train_left_words = train_left_words[indices]\n",
    "train_right_words = train_right_words[indices]\n",
    "train_left_cls = train_left_cls[indices]\n",
    "train_right_cls = train_right_cls[indices]\n",
    "\n",
    "labels = labels[indices]\n"
   ]
  },
  {
   "cell_type": "code",
   "execution_count": 132,
   "metadata": {},
   "outputs": [],
   "source": [
    "import keras\n",
    "from keras.layers import *\n",
    "from keras.models import *\n",
    "from keras_self_attention import SeqSelfAttention\n",
    "max_len = 75\n",
    "\n",
    "def build_model():\n",
    "    input_left = Input(shape=(max_len, 300), name='input1')\n",
    "    input_right = Input(shape=(max_len, 300), name='input2')\n",
    "    input_bert_left = Input(shape=(max_len-1, 768), name='input3')\n",
    "    input_bert_right = Input(shape=(max_len-1, 768), name='input4')\n",
    "    input_cls_left = Input(shape=(768, ))\n",
    "    input_cls_right = Input(shape=(768, ))\n",
    "   \n",
    "\n",
    "    attention = SeqSelfAttention(attention_activation='sigmoid', kernel_regularizer=keras.regularizers.l2(1e-6), bias_regularizer=keras.regularizers.l1(1e-4), attention_regularizer_weight=1e-4)\n",
    "\n",
    "    conv2 = Conv1D(300, 3, activation='relu')\n",
    "    conv4 = Conv1D(300, 5, activation='relu')\n",
    "    conv6 = Conv1D(300, 7, activation='relu')\n",
    "    \n",
    "    embed_left = attention(input_left)\n",
    "\n",
    "    left2 = conv2(embed_left)\n",
    "    left2 = MaxPooling1D(2)(left2)\n",
    "    left2 = GlobalAveragePooling1D()(left2)\n",
    "      \n",
    "    left4 = conv4(embed_left)\n",
    "    left4 = MaxPooling1D(2)(left4)\n",
    "    left4 = GlobalAveragePooling1D()(left4)\n",
    "      \n",
    "    left6 = conv6(embed_left)\n",
    "    left6 = MaxPooling1D(2)(left6)\n",
    "    left6 = GlobalAveragePooling1D()(left6)\n",
    "  \n",
    "    all_embed_left = GlobalAveragePooling1D()(input_left)\n",
    "\n",
    "    left2 = add([left2, all_embed_left])\n",
    "    left4 = add([left4, all_embed_left])\n",
    "    left6 = add([left6, all_embed_left])\n",
    "   \n",
    "    embed_right = attention(input_right)\n",
    "\n",
    "    right2 = conv2(embed_right)\n",
    "    right2 = MaxPooling1D(2)(right2)\n",
    "    right2 = GlobalAveragePooling1D()(right2)\n",
    "    \n",
    "    right4 = conv4(embed_right)\n",
    "    right4 = MaxPooling1D(2)(right4)\n",
    "    right4 = GlobalAveragePooling1D()(right4)\n",
    "    \n",
    "    right6 = conv6(embed_right)\n",
    "    right6 = MaxPooling1D(2)(right6)\n",
    "    right6 = GlobalAveragePooling1D()(right6)\n",
    "    \n",
    "    all_embed_right = GlobalAveragePooling1D()(input_right)\n",
    "    \n",
    "\n",
    "    right2 = add([right2, all_embed_right])\n",
    "    right4 = add([right4, all_embed_right])\n",
    "    right6 = add([right6, all_embed_right])\n",
    "    \n",
    "    bert_left = GlobalAveragePooling1D()(input_bert_left)\n",
    "    bert_right = GlobalAveragePooling1D()(input_bert_right)\n",
    "    \n",
    "    bert_left = add([bert_left, input_cls_left])\n",
    "    bert_right = add([bert_right, input_cls_right])\n",
    "\n",
    "    out2 = Dot(axes=-1, normalize=True)([left2, right2])\n",
    "    out4 = Dot(axes=-1, normalize=True)([left4, right4])\n",
    "    out6 = Dot(axes=-1, normalize=True)([left6, right6])\n",
    "    \n",
    "    outb = Dot(axes=-1, normalize=True)([bert_left, bert_right])\n",
    "   \n",
    "    out = average([out2, out4, out6, outb])\n",
    "\n",
    "    model = Model(inputs=[input_left, input_right, input_bert_left, input_bert_right, input_cls_left, input_cls_right], output=out)\n",
    "\n",
    "    model.compile(loss='mse', optimizer='adam', metrics=['mae'])\n",
    "    model.summary()\n",
    "    return model"
   ]
  },
  {
   "cell_type": "code",
   "execution_count": null,
   "metadata": {},
   "outputs": [],
   "source": [
    "from keras.callbacks import *\n",
    "\n",
    "model = build_model()\n",
    "history = model.fit([data_left, data_right, train_left_words, train_right_words, train_left_cls, train_right_cls], labels, validation_split=0.2, epochs=20, batch_size=32, callbacks=[ModelCheckpoint(filepath='my_model_w2v+bert.h5', monitor='val_loss', save_best_only=True)])"
   ]
  },
  {
   "cell_type": "code",
   "execution_count": null,
   "metadata": {},
   "outputs": [],
   "source": [
    "import matplotlib.pyplot as plt\n",
    "import numpy as np\n",
    "num_epochs=100\n",
    "\n",
    "mae = history.history[\"mae\"]\n",
    "val_mae = history.history['val_mae']\n",
    "loss = history.history['loss']\n",
    "val_loss = history.history['val_loss']\n",
    "\n",
    "epochs = range(1, len(mae) + 1)\n",
    "\n",
    "plt.plot(epochs, loss, 'bo', label='Traing loss')\n",
    "plt.plot(epochs, val_loss, 'b', label='Validation loss')\n",
    "plt.title('Training and validation loss')\n",
    "plt.legend()\n",
    "plt.figure()\n",
    "\n",
    "plt.plot(epochs, mae, 'bo', label='Traing mae')\n",
    "plt.plot(epochs, val_mae, 'b', label='Validation mae')\n",
    "plt.title('Training and validation mae')\n",
    "plt.legend()\n",
    "\n",
    "plt.show()"
   ]
  },
  {
   "cell_type": "code",
   "execution_count": 135,
   "metadata": {},
   "outputs": [],
   "source": [
    "test1, test2 = file_open(\"input/STS.input.images.txt\")\n",
    "test1 = lemmatize(test1)\n",
    "test2 = lemmatize(test2)\n",
    "\n",
    "model.load_weights('my_model_w2v+bert.h5')\n",
    "prediction = model.predict([test1, test2, test_left_words, test_right_words, test_left_cls, test_right_cls])"
   ]
  }
 ],
 "metadata": {
  "kernelspec": {
   "display_name": "Python 3",
   "language": "python",
   "name": "python3"
  },
  "language_info": {
   "codemirror_mode": {
    "name": "ipython",
    "version": 3
   },
   "file_extension": ".py",
   "mimetype": "text/x-python",
   "name": "python",
   "nbconvert_exporter": "python",
   "pygments_lexer": "ipython3",
   "version": "3.7.3"
  }
 },
 "nbformat": 4,
 "nbformat_minor": 2
}
